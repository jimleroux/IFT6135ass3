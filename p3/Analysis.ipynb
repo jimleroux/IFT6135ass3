{
 "cells": [
  {
   "cell_type": "markdown",
   "metadata": {},
   "source": [
    "### Load stuff"
   ]
  },
  {
   "cell_type": "code",
   "execution_count": 1,
   "metadata": {},
   "outputs": [],
   "source": [
    "import torch\n",
    "from torchvision.transforms import Normalize\n",
    "from torchvision.utils import save_image\n",
    "from torchvision.utils import make_grid\n",
    "from gan_model import UpsampleGenerator, Discriminator\n",
    "from vae_model import VAE\n",
    "import matplotlib.pyplot as plt\n",
    "%matplotlib inline"
   ]
  },
  {
   "cell_type": "code",
   "execution_count": 2,
   "metadata": {},
   "outputs": [],
   "source": [
    "device = torch.device('cuda:0') if torch.cuda.is_available() else torch.device('cpu')"
   ]
  },
  {
   "cell_type": "code",
   "execution_count": 3,
   "metadata": {},
   "outputs": [],
   "source": [
    "latent_dimension = 100"
   ]
  },
  {
   "cell_type": "code",
   "execution_count": 4,
   "metadata": {},
   "outputs": [],
   "source": [
    "re_norm = Normalize([-1, -1, -1], [2, 2, 2])"
   ]
  },
  {
   "cell_type": "code",
   "execution_count": 11,
   "metadata": {},
   "outputs": [
    {
     "data": {
      "text/plain": [
       "UpsampleGenerator(\n",
       "  (network): Sequential(\n",
       "    (0): Upsample(scale_factor=4, mode=bilinear)\n",
       "    (1): Conv2d(100, 128, kernel_size=(3, 3), stride=(1, 1), padding=(1, 1))\n",
       "    (2): LeakyReLU(negative_slope=0.01)\n",
       "    (3): Upsample(scale_factor=2, mode=bilinear)\n",
       "    (4): Conv2d(128, 128, kernel_size=(3, 3), stride=(1, 1), padding=(1, 1))\n",
       "    (5): LeakyReLU(negative_slope=0.01)\n",
       "    (6): Upsample(scale_factor=2, mode=bilinear)\n",
       "    (7): Conv2d(128, 128, kernel_size=(3, 3), stride=(1, 1), padding=(1, 1))\n",
       "    (8): LeakyReLU(negative_slope=0.01)\n",
       "    (9): Upsample(scale_factor=2, mode=bilinear)\n",
       "    (10): Conv2d(128, 3, kernel_size=(3, 3), stride=(1, 1), padding=(1, 1))\n",
       "    (11): Tanh()\n",
       "  )\n",
       ")"
      ]
     },
     "execution_count": 11,
     "metadata": {},
     "output_type": "execute_result"
    }
   ],
   "source": [
    "# load the generatorvae_out = vae_model.decoder(new_z)\n",
    "gan_checkpoint = '../upsample/checkpoint_{}.pth'.format(45)\n",
    "gan_model = UpsampleGenerator(latent_dimension).to(device)\n",
    "checkpoint = torch.load(gan_checkpoint, map_location=device)\n",
    "gan_model.load_state_dict(checkpoint['gen_model'])\n",
    "gan_model.eval()"
   ]
  },
  {
   "cell_type": "code",
   "execution_count": 10,
   "metadata": {},
   "outputs": [
    {
     "data": {
      "text/plain": [
       "VAE(\n",
       "  (encoder): Sequential(\n",
       "    (0): Conv2d(3, 64, kernel_size=(3, 3), stride=(1, 1), padding=(1, 1))\n",
       "    (1): MaxPool2d(kernel_size=2, stride=2, padding=0, dilation=1, ceil_mode=False)\n",
       "    (2): ReLU()\n",
       "    (3): Conv2d(64, 128, kernel_size=(3, 3), stride=(1, 1), padding=(1, 1))\n",
       "    (4): MaxPool2d(kernel_size=2, stride=2, padding=0, dilation=1, ceil_mode=False)\n",
       "    (5): ReLU()\n",
       "    (6): Conv2d(128, 256, kernel_size=(3, 3), stride=(1, 1), padding=(1, 1))\n",
       "    (7): MaxPool2d(kernel_size=2, stride=2, padding=0, dilation=1, ceil_mode=False)\n",
       "    (8): ReLU()\n",
       "    (9): Conv2d(256, 512, kernel_size=(3, 3), stride=(1, 1), padding=(1, 1))\n",
       "    (10): MaxPool2d(kernel_size=2, stride=2, padding=0, dilation=1, ceil_mode=False)\n",
       "    (11): ReLU()\n",
       "  )\n",
       "  (lin1): Sequential(\n",
       "    (0): Linear(in_features=2048, out_features=100, bias=True)\n",
       "    (1): ReLU()\n",
       "  )\n",
       "  (fc11): Linear(in_features=100, out_features=100, bias=True)\n",
       "  (fc12): Linear(in_features=100, out_features=100, bias=True)\n",
       "  (decoder): UpsampleGenerator(\n",
       "    (network): Sequential(\n",
       "      (0): Upsample(scale_factor=4, mode=bilinear)\n",
       "      (1): Conv2d(100, 128, kernel_size=(3, 3), stride=(1, 1), padding=(1, 1))\n",
       "      (2): LeakyReLU(negative_slope=0.01)\n",
       "      (3): Upsample(scale_factor=2, mode=bilinear)\n",
       "      (4): Conv2d(128, 128, kernel_size=(3, 3), stride=(1, 1), padding=(1, 1))\n",
       "      (5): LeakyReLU(negative_slope=0.01)\n",
       "      (6): Upsample(scale_factor=2, mode=bilinear)\n",
       "      (7): Conv2d(128, 128, kernel_size=(3, 3), stride=(1, 1), padding=(1, 1))\n",
       "      (8): LeakyReLU(negative_slope=0.01)\n",
       "      (9): Upsample(scale_factor=2, mode=bilinear)\n",
       "      (10): Conv2d(128, 3, kernel_size=(3, 3), stride=(1, 1), padding=(1, 1))\n",
       "      (11): Tanh()\n",
       "    )\n",
       "  )\n",
       ")"
      ]
     },
     "execution_count": 10,
     "metadata": {},
     "output_type": "execute_result"
    }
   ],
   "source": [
    "# load VAE\n",
    "vae_checkpoint = '../upsample/vae_checkpoint.pth'\n",
    "vae_model = VAE(latent_dimension).to(device)\n",
    "checkpoint = torch.load(vae_checkpoint, map_location=device)\n",
    "vae_model.load_state_dict(checkpoint['model'])\n",
    "vae_model.eval()"
   ]
  },
  {
   "cell_type": "code",
   "execution_count": 12,
   "metadata": {},
   "outputs": [],
   "source": [
    "def show_grid(imgs, nrow):\n",
    "    plt.figure(figsize=(20, 20))\n",
    "    plt.tight_layout()\n",
    "    for i, img in enumerate(imgs):\n",
    "        ax = plt.subplot(1,nrow,i+1)\n",
    "        npimg = re_norm(img).permute(1,2,0).numpy()\n",
    "        ax.set_axis_off()\n",
    "        ax.imshow(npimg, interpolation='nearest')\n",
    "    plt.show()"
   ]
  },
  {
   "cell_type": "markdown",
   "metadata": {},
   "source": [
    "### Qualitative evaluation"
   ]
  },
  {
   "cell_type": "code",
   "execution_count": 13,
   "metadata": {},
   "outputs": [
    {
     "name": "stderr",
     "output_type": "stream",
     "text": [
      "/miniconda/lib/python3.6/site-packages/torch/nn/modules/upsampling.py:129: UserWarning: nn.Upsample is deprecated. Use nn.functional.interpolate instead.\n",
      "  warnings.warn(\"nn.{} is deprecated. Use nn.functional.interpolate instead.\".format(self.name))\n"
     ]
    },
    {
     "ename": "NameError",
     "evalue": "name 'enumerat' is not defined",
     "output_type": "error",
     "traceback": [
      "\u001b[0;31m---------------------------------------------------------------------------\u001b[0m",
      "\u001b[0;31mNameError\u001b[0m                                 Traceback (most recent call last)",
      "\u001b[0;32m<ipython-input-13-7dd51bfc9036>\u001b[0m in \u001b[0;36m<module>\u001b[0;34m\u001b[0m\n\u001b[1;32m      4\u001b[0m     \u001b[0mvae_out\u001b[0m \u001b[0;34m=\u001b[0m \u001b[0mvae_model\u001b[0m\u001b[0;34m.\u001b[0m\u001b[0mdecoder\u001b[0m\u001b[0;34m(\u001b[0m\u001b[0mz\u001b[0m\u001b[0;34m)\u001b[0m\u001b[0;34m\u001b[0m\u001b[0;34m\u001b[0m\u001b[0m\n\u001b[1;32m      5\u001b[0m     \u001b[0mgan_out\u001b[0m \u001b[0;34m=\u001b[0m \u001b[0mgan_model\u001b[0m\u001b[0;34m(\u001b[0m\u001b[0mz\u001b[0m\u001b[0;34m)\u001b[0m\u001b[0;34m.\u001b[0m\u001b[0mdetach\u001b[0m\u001b[0;34m(\u001b[0m\u001b[0;34m)\u001b[0m\u001b[0;34m\u001b[0m\u001b[0;34m\u001b[0m\u001b[0m\n\u001b[0;32m----> 6\u001b[0;31m \u001b[0;32mfor\u001b[0m \u001b[0mi\u001b[0m \u001b[0;34m,\u001b[0m \u001b[0mim\u001b[0m \u001b[0;32min\u001b[0m \u001b[0menumerat\u001b[0m\u001b[0;34m(\u001b[0m\u001b[0mvae_out\u001b[0m\u001b[0;34m)\u001b[0m\u001b[0;34m:\u001b[0m\u001b[0;34m\u001b[0m\u001b[0;34m\u001b[0m\u001b[0m\n\u001b[0m\u001b[1;32m      7\u001b[0m     \u001b[0msave_image\u001b[0m\u001b[0;34m(\u001b[0m\u001b[0mre_norm\u001b[0m\u001b[0;34m(\u001b[0m\u001b[0mim\u001b[0m\u001b[0;34m)\u001b[0m\u001b[0;34m,\u001b[0m \u001b[0;34m'vae_sample_{}.png'\u001b[0m\u001b[0;34m.\u001b[0m\u001b[0mformat\u001b[0m\u001b[0;34m(\u001b[0m\u001b[0mi\u001b[0m\u001b[0;34m)\u001b[0m\u001b[0;34m)\u001b[0m\u001b[0;34m\u001b[0m\u001b[0;34m\u001b[0m\u001b[0m\n\u001b[1;32m      8\u001b[0m \u001b[0;32mfor\u001b[0m \u001b[0mi\u001b[0m \u001b[0;34m,\u001b[0m \u001b[0mim\u001b[0m \u001b[0;32min\u001b[0m \u001b[0menumerat\u001b[0m\u001b[0;34m(\u001b[0m\u001b[0mgan_out\u001b[0m\u001b[0;34m)\u001b[0m\u001b[0;34m:\u001b[0m\u001b[0;34m\u001b[0m\u001b[0;34m\u001b[0m\u001b[0m\n",
      "\u001b[0;31mNameError\u001b[0m: name 'enumerat' is not defined"
     ]
    }
   ],
   "source": [
    "# generate visual samples\n",
    "z = torch.randn(1000, latent_dimension, device=device)\n",
    "with torch.no_grad():\n",
    "    vae_out = vae_model.decoder(z)\n",
    "    gan_out = gan_model(z).detach()\n",
    "for i , im in enumerate(vae_out):\n",
    "    save_image(re_norm(im), 'vae_sample_{}.png'.format(i))\n",
    "for i , im in enumerate(gan_out):\n",
    "    save_image(re_norm(im), 'gan_sample_{}.png'.format(i))"
   ]
  },
  {
   "cell_type": "code",
   "execution_count": 14,
   "metadata": {},
   "outputs": [],
   "source": [
    "# perturbing dimension\n",
    "def pertube(z, epsilon, steps, dim):\n",
    "    epsilon_m = torch.Tensor([epsilon*i for i in range(int(-steps/2), int(steps/2))])\n",
    "    new_z = z.repeat(steps, 1)\n",
    "    print(new_z.shape)\n",
    "    new_z[:, dim] += epsilon_m\n",
    "    return new_z"
   ]
  },
  {
   "cell_type": "code",
   "execution_count": 15,
   "metadata": {},
   "outputs": [
    {
     "data": {
      "text/plain": [
       "torch.Size([16])"
      ]
     },
     "execution_count": 15,
     "metadata": {},
     "output_type": "execute_result"
    }
   ],
   "source": [
    "steps=16\n",
    "epsilon = 0.001\n",
    "x = torch.Tensor([epsilon*i for i in range(int(-steps/2), int(steps/2))])\n",
    "x.shape"
   ]
  },
  {
   "cell_type": "code",
   "execution_count": 21,
   "metadata": {},
   "outputs": [
    {
     "name": "stdout",
     "output_type": "stream",
     "text": [
      "torch.Size([16, 100])\n"
     ]
    }
   ],
   "source": [
    "z = torch.randn(1, latent_dimension, device=device)\n"
   ]
  },
  {
   "cell_type": "code",
   "execution_count": 27,
   "metadata": {},
   "outputs": [
    {
     "name": "stdout",
     "output_type": "stream",
     "text": [
      "torch.Size([16, 100])\n"
     ]
    },
    {
     "data": {
      "image/png": "[encoded data removed]",
      "text/plain": [
       "<Figure size 1440x1440 with 16 Axes>"
      ]
     },
     "metadata": {
      "needs_background": "light"
     },
     "output_type": "display_data"
    }
   ],
   "source": [
    "pbs = 16\n",
    "new_z = pertube(z, 0.1, pbs, 99)\n",
    "with torch.no_grad():\n",
    "    vae_out = vae_model.decoder(new_z)\n",
    "    gan_out = gan_model(new_z).detach()\n",
    "show_grid(gan_out, pbs)"
   ]
  }
 ],
 "metadata": {
  "kernelspec": {
   "display_name": "Python 3",
   "language": "python",
   "name": "python3"
  },
  "language_info": {
   "codemirror_mode": {
    "name": "ipython",
    "version": 3
   },
   "file_extension": ".py",
   "mimetype": "text/x-python",
   "name": "python",
   "nbconvert_exporter": "python",
   "pygments_lexer": "ipython3",
   "version": "3.6.8"
  }
 },
 "nbformat": 4,
 "nbformat_minor": 2
}
