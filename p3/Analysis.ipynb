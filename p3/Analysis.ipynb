{
 "cells": [
  {
   "cell_type": "markdown",
   "metadata": {},
   "source": [
    "### Load stuff"
   ]
  },
  {
   "cell_type": "code",
   "execution_count": 2,
   "metadata": {},
   "outputs": [],
   "source": [
    "import torch\n",
    "from torchvision.transforms import Normalize\n",
    "from torchvision.utils import save_image\n",
    "from torchvision.utils import make_grid\n",
    "from gan_model import UpsampleGenerator, Discriminator\n",
    "from vae_model import VAE\n",
    "import matplotlib.pyplot as plt\n",
    "%matplotlib inline"
   ]
  },
  {
   "cell_type": "code",
   "execution_count": 3,
   "metadata": {},
   "outputs": [],
   "source": [
    "device = torch.device('cuda:0') if torch.cuda.is_available() else torch.device('cpu')"
   ]
  },
  {
   "cell_type": "code",
   "execution_count": null,
   "metadata": {},
   "outputs": [],
   "source": [
    "latent_dimension = 100"
   ]
  },
  {
   "cell_type": "code",
   "execution_count": 4,
   "metadata": {},
   "outputs": [],
   "source": [
    "re_norm = Normalize([-1, -1, -1], [2, 2, 2])"
   ]
  },
  {
   "cell_type": "code",
   "execution_count": null,
   "metadata": {},
   "outputs": [],
   "source": [
    "# load the generator\n",
    "gan_checkpoint = '../upsample/checkpoint_{}.pth'.format(99)\n",
    "gen_model = UpsampleGenerator(latent_dimension).to(device)\n",
    "checkpoint = torch.load(gan_checkpoint)\n",
    "gen_model.load_state_dict(checkpoint['gen_model'])"
   ]
  },
  {
   "cell_type": "code",
   "execution_count": null,
   "metadata": {},
   "outputs": [],
   "source": [
    "# load VAE\n",
    "vae_checkpoint = '../upsample/vae_checkpoint_{}.pth'.format(99)\n",
    "vae_model = VAE(latent_dimension).to(device)\n",
    "checkpoint = torch.load(vae_checkpoint)\n",
    "vae_model.load_state_dict(checkpoint['model'])"
   ]
  },
  {
   "cell_type": "code",
   "execution_count": null,
   "metadata": {},
   "outputs": [],
   "source": [
    "def show_grid(imgs, nrow):\n",
    "    img = make_grid(imgs, nrow=nrow, padding=100)\n",
    "    npimg = img.numpy(img)\n",
    "    plt.imshow(np.transpose(npimg, (1,2,0)), interpolation='nearest')"
   ]
  },
  {
   "cell_type": "markdown",
   "metadata": {},
   "source": [
    "### Qualitative evaluation"
   ]
  },
  {
   "cell_type": "code",
   "execution_count": null,
   "metadata": {},
   "outputs": [],
   "source": [
    "# generate visual samples\n",
    "z = torch.randn(1000, latent_dimension, device=device)\n",
    "vae_out = vae_model(z)\n",
    "gan_out = gan_model(z)\n",
    "for i , im in enumerat(vae_out):\n",
    "    save_image(re_norm(im), 'vae_sample_{}.png'.format(i))\n",
    "for i , im in enumerat(gan_out):\n",
    "    save_image(re_norm(im), 'gan_sample_{}.png'.format(i))"
   ]
  },
  {
   "cell_type": "code",
   "execution_count": null,
   "metadata": {},
   "outputs": [],
   "source": [
    "# perturbing dimension\n",
    "def pertube(z, epsilon, steps, dim):\n",
    "    epsilon_m = torch.cat([epsilon*i for i in range(-steps/2, steps/2)]).view(1, -1)\n",
    "    new_z = torch.repeat(z)\n",
    "    new_z[:, dim] += epsilon_m\n",
    "    return new_z"
   ]
  },
  {
   "cell_type": "code",
   "execution_count": null,
   "metadata": {},
   "outputs": [],
   "source": [
    "z = torch.randn(1, latent_dimension, device=device)\n",
    "pbs = 16\n",
    "new_z = pertube(z, 0.0001, pbs, 5)\n",
    "vae_out = vae_model(new_z)\n",
    "gan_out = gan_model(new_z)\n",
    "show_grid(vae_out, pbs)"
   ]
  }
 ],
 "metadata": {
  "kernelspec": {
   "display_name": "Python 3",
   "language": "python",
   "name": "python3"
  },
  "language_info": {
   "codemirror_mode": {
    "name": "ipython",
    "version": 3
   },
   "file_extension": ".py",
   "mimetype": "text/x-python",
   "name": "python",
   "nbconvert_exporter": "python",
   "pygments_lexer": "ipython3",
   "version": "3.6.7"
  }
 },
 "nbformat": 4,
 "nbformat_minor": 2
}
